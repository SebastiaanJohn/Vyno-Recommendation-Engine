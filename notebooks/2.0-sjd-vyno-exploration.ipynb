{
 "cells": [
  {
   "cell_type": "code",
   "execution_count": 1,
   "id": "035c5463",
   "metadata": {},
   "outputs": [
    {
     "name": "stderr",
     "output_type": "stream",
     "text": [
      "/Users/sebastiaan/opt/miniconda3/envs/vyno/lib/python3.9/site-packages/gensim/similarities/__init__.py:15: UserWarning: The gensim.similarities.levenshtein submodule is disabled, because the optional Levenshtein package <https://pypi.org/project/python-Levenshtein/> is unavailable. Install Levenhstein (e.g. `pip install python-Levenshtein`) to suppress this warning.\n",
      "  warnings.warn(msg)\n"
     ]
    }
   ],
   "source": [
    "import os\n",
    "import pandas as pd\n",
    "import numpy as np\n",
    "import string\n",
    "from operator import itemgetter\n",
    "from collections import Counter, OrderedDict\n",
    "\n",
    "from nltk.tokenize import word_tokenize, sent_tokenize\n",
    "from nltk.stem import SnowballStemmer\n",
    "from nltk.corpus import stopwords\n",
    "\n",
    "from gensim.models.phrases import Phrases, Phraser\n",
    "from gensim.models import Word2Vec\n",
    "\n",
    "from sklearn.feature_extraction.text import TfidfVectorizer\n",
    "from sklearn.metrics.pairwise import cosine_similarity\n",
    "from sklearn.neighbors import NearestNeighbors\n",
    "from sklearn.decomposition import PCA\n",
    "from matplotlib import pyplot as plt\n",
    "\n",
    "import hdbscan"
   ]
  },
  {
   "cell_type": "markdown",
   "id": "40a66e3e",
   "metadata": {},
   "source": [
    "## Load Data"
   ]
  },
  {
   "cell_type": "code",
   "execution_count": 40,
   "id": "c3b3fda3",
   "metadata": {},
   "outputs": [
    {
     "data": {
      "text/html": [
       "<div>\n",
       "<style scoped>\n",
       "    .dataframe tbody tr th:only-of-type {\n",
       "        vertical-align: middle;\n",
       "    }\n",
       "\n",
       "    .dataframe tbody tr th {\n",
       "        vertical-align: top;\n",
       "    }\n",
       "\n",
       "    .dataframe thead th {\n",
       "        text-align: right;\n",
       "    }\n",
       "</style>\n",
       "<table border=\"1\" class=\"dataframe\">\n",
       "  <thead>\n",
       "    <tr style=\"text-align: right;\">\n",
       "      <th></th>\n",
       "      <th>index</th>\n",
       "      <th>country</th>\n",
       "      <th>description</th>\n",
       "      <th>wine_name</th>\n",
       "      <th>province</th>\n",
       "      <th>region</th>\n",
       "      <th>sub_region</th>\n",
       "      <th>grape</th>\n",
       "      <th>vineyard</th>\n",
       "      <th>title</th>\n",
       "      <th>normalized_descriptors</th>\n",
       "      <th>description_vector</th>\n",
       "      <th>descriptor_count</th>\n",
       "    </tr>\n",
       "  </thead>\n",
       "  <tbody>\n",
       "    <tr>\n",
       "      <th>0</th>\n",
       "      <td>0</td>\n",
       "      <td>US</td>\n",
       "      <td>This tremendous 100% varietal wine hails from ...</td>\n",
       "      <td>Martha's Vineyard</td>\n",
       "      <td>California</td>\n",
       "      <td>Napa Valley</td>\n",
       "      <td>Napa</td>\n",
       "      <td>Cabernet Sauvignon</td>\n",
       "      <td>Heitz</td>\n",
       "      <td>NaN</td>\n",
       "      <td>[oak, juicy, cherry, fruit, caramel, elegant, ...</td>\n",
       "      <td>[[-2.0711305, -4.7418947, -2.138353, -0.596845...</td>\n",
       "      <td>7</td>\n",
       "    </tr>\n",
       "    <tr>\n",
       "      <th>1</th>\n",
       "      <td>1</td>\n",
       "      <td>Spain</td>\n",
       "      <td>Ripe aromas of fig, blackberry and cassis are ...</td>\n",
       "      <td>Carodorum Selección Especial Reserva</td>\n",
       "      <td>Northern Spain</td>\n",
       "      <td>Toro</td>\n",
       "      <td>NaN</td>\n",
       "      <td>Tinta de Toro</td>\n",
       "      <td>Bodega Carmen Rodríguez</td>\n",
       "      <td>NaN</td>\n",
       "      <td>[ripe, fig, blackberry, cassis, oak, chocolate...</td>\n",
       "      <td>[[-1.8445625, -5.050164, -4.2829804, 0.1221863...</td>\n",
       "      <td>14</td>\n",
       "    </tr>\n",
       "    <tr>\n",
       "      <th>2</th>\n",
       "      <td>2</td>\n",
       "      <td>US</td>\n",
       "      <td>Mac Watson honors the memory of a wine once ma...</td>\n",
       "      <td>Special Selected Late Harvest</td>\n",
       "      <td>California</td>\n",
       "      <td>Knights Valley</td>\n",
       "      <td>Sonoma</td>\n",
       "      <td>Sauvignon Blanc</td>\n",
       "      <td>Macauley</td>\n",
       "      <td>NaN</td>\n",
       "      <td>[complex, white, dark, gold, toasted_hazelnut,...</td>\n",
       "      <td>[[-2.3649457, -4.712655, -3.1457627, 0.8866671...</td>\n",
       "      <td>10</td>\n",
       "    </tr>\n",
       "    <tr>\n",
       "      <th>3</th>\n",
       "      <td>3</td>\n",
       "      <td>US</td>\n",
       "      <td>This spent 20 months in 30% new French oak, an...</td>\n",
       "      <td>Reserve</td>\n",
       "      <td>Oregon</td>\n",
       "      <td>Willamette Valley</td>\n",
       "      <td>Willamette Valley</td>\n",
       "      <td>Pinot Noir</td>\n",
       "      <td>Ponzi</td>\n",
       "      <td>NaN</td>\n",
       "      <td>[oak, fruit, dense, toast, toast, cigar_box, b...</td>\n",
       "      <td>[[-1.6315883, -5.0111055, -3.8726304, -2.18882...</td>\n",
       "      <td>14</td>\n",
       "    </tr>\n",
       "    <tr>\n",
       "      <th>4</th>\n",
       "      <td>4</td>\n",
       "      <td>France</td>\n",
       "      <td>This is the top wine from La Bégude, named aft...</td>\n",
       "      <td>La Brûlade</td>\n",
       "      <td>Provence</td>\n",
       "      <td>Bandol</td>\n",
       "      <td>NaN</td>\n",
       "      <td>Provence red blend</td>\n",
       "      <td>Domaine de la Bégude</td>\n",
       "      <td>NaN</td>\n",
       "      <td>[dense, wood, rich, concentrated]</td>\n",
       "      <td>[[0.7936336, -5.4881744, 1.7294126, 2.6966877,...</td>\n",
       "      <td>4</td>\n",
       "    </tr>\n",
       "  </tbody>\n",
       "</table>\n",
       "</div>"
      ],
      "text/plain": [
       "   index country                                        description  \\\n",
       "0      0      US  This tremendous 100% varietal wine hails from ...   \n",
       "1      1   Spain  Ripe aromas of fig, blackberry and cassis are ...   \n",
       "2      2      US  Mac Watson honors the memory of a wine once ma...   \n",
       "3      3      US  This spent 20 months in 30% new French oak, an...   \n",
       "4      4  France  This is the top wine from La Bégude, named aft...   \n",
       "\n",
       "                              wine_name        province             region  \\\n",
       "0                     Martha's Vineyard      California        Napa Valley   \n",
       "1  Carodorum Selección Especial Reserva  Northern Spain               Toro   \n",
       "2         Special Selected Late Harvest      California     Knights Valley   \n",
       "3                               Reserve          Oregon  Willamette Valley   \n",
       "4                            La Brûlade        Provence             Bandol   \n",
       "\n",
       "          sub_region               grape                 vineyard title  \\\n",
       "0               Napa  Cabernet Sauvignon                    Heitz   NaN   \n",
       "1                NaN       Tinta de Toro  Bodega Carmen Rodríguez   NaN   \n",
       "2             Sonoma     Sauvignon Blanc                 Macauley   NaN   \n",
       "3  Willamette Valley          Pinot Noir                    Ponzi   NaN   \n",
       "4                NaN  Provence red blend     Domaine de la Bégude   NaN   \n",
       "\n",
       "                              normalized_descriptors  \\\n",
       "0  [oak, juicy, cherry, fruit, caramel, elegant, ...   \n",
       "1  [ripe, fig, blackberry, cassis, oak, chocolate...   \n",
       "2  [complex, white, dark, gold, toasted_hazelnut,...   \n",
       "3  [oak, fruit, dense, toast, toast, cigar_box, b...   \n",
       "4                  [dense, wood, rich, concentrated]   \n",
       "\n",
       "                                  description_vector  descriptor_count  \n",
       "0  [[-2.0711305, -4.7418947, -2.138353, -0.596845...                 7  \n",
       "1  [[-1.8445625, -5.050164, -4.2829804, 0.1221863...                14  \n",
       "2  [[-2.3649457, -4.712655, -3.1457627, 0.8866671...                10  \n",
       "3  [[-1.6315883, -5.0111055, -3.8726304, -2.18882...                14  \n",
       "4  [[0.7936336, -5.4881744, 1.7294126, 2.6966877,...                 4  "
      ]
     },
     "execution_count": 40,
     "metadata": {},
     "output_type": "execute_result"
    }
   ],
   "source": [
    "DATA = 'dataset/'\n",
    "\n",
    "wine_df = pd.read_pickle(\"./wine_df.pkl\")\n",
    "wine_df = wine_df.drop_duplicates(subset=['description'])\n",
    "wine_df.head()"
   ]
  },
  {
   "cell_type": "code",
   "execution_count": 41,
   "id": "146634a9",
   "metadata": {},
   "outputs": [
    {
     "data": {
      "text/plain": [
       "(169437, 13)"
      ]
     },
     "execution_count": 41,
     "metadata": {},
     "output_type": "execute_result"
    }
   ],
   "source": [
    "wine_df.shape"
   ]
  },
  {
   "cell_type": "code",
   "execution_count": 4,
   "id": "7ed063c5",
   "metadata": {},
   "outputs": [],
   "source": [
    "# Load embeddings\n",
    "wine_word2vec_model = Word2Vec.load(\"wine_word2vec_model.bin\")"
   ]
  },
  {
   "cell_type": "markdown",
   "id": "cc3b2cf4",
   "metadata": {},
   "source": [
    "## Clustering"
   ]
  },
  {
   "cell_type": "code",
   "execution_count": 42,
   "id": "c6158fdc",
   "metadata": {},
   "outputs": [],
   "source": [
    "# Remove wines with fewer than 5 descriptors\n",
    "wine_description_mincount = wine_df.loc[wine_df['descriptor_count'] > 5]\n",
    "wine_description_mincount.reset_index(inplace=True)\n",
    "\n",
    "input_vectors = list(wine_description_mincount['description_vector'])\n",
    "input_vectors_listed = [a.tolist() for a in input_vectors]\n",
    "input_vectors_listed = [a[0] for a in input_vectors_listed]"
   ]
  },
  {
   "cell_type": "code",
   "execution_count": 45,
   "id": "012c0cef",
   "metadata": {},
   "outputs": [],
   "source": [
    "knn = NearestNeighbors(n_neighbors=10, algorithm='brute', metric='cosine')\n",
    "model_knn = knn.fit(input_vectors_listed)"
   ]
  },
  {
   "cell_type": "markdown",
   "id": "cbc19923",
   "metadata": {},
   "source": [
    "## Recommending"
   ]
  },
  {
   "cell_type": "code",
   "execution_count": 48,
   "id": "d57e7b01",
   "metadata": {},
   "outputs": [
    {
     "name": "stdout",
     "output_type": "stream",
     "text": [
      "Wine name: Rosenberg \n",
      "\n",
      "Wine description: Lifted notes of wild, aromatic raspberry hover above a far earthier base of chestnut. But this wine is mutable: sniffed at another moment its red cherry and peony petal flavors come to the fore. The palate is light bodied and has a firm acidic backbone, destining it for the table. There are mystical edges of woodsmoke and pepper but what remains and lingers is pure cherry and raspberry fruit. \n",
      "\n",
      "Wine characteristics: ['raspberry', 'earthy', 'cherry', 'light_bodied', 'firm', 'edgy', 'pepper', 'cherry', 'raspberry', 'fruit']\n"
     ]
    }
   ],
   "source": [
    "import random\n",
    "\n",
    "random.seed(10)\n",
    "\n",
    "idx = random.randint(0, wine_description_mincount.shape[0])\n",
    "wine_desc = wine_description_mincount.loc[idx]\n",
    "\n",
    "print(f'Wine name: {wine_desc[\"wine_name\"]} \\n')\n",
    "print(f'Wine description: {wine_desc[\"description\"]} \\n')\n",
    "print(f'Wine characteristics: {wine_desc[\"normalized_descriptors\"]}')"
   ]
  },
  {
   "cell_type": "code",
   "execution_count": 125,
   "id": "7bb0745e",
   "metadata": {},
   "outputs": [
    {
     "name": "stdout",
     "output_type": "stream",
     "text": [
      "Wine to match: Rosenberg\n",
      "The original wine has the following descriptors: ['soft', 'stone', 'melon', 'fresh', 'clean', 'soft', 'stone', 'dry', 'fresh', 'apple'] \n",
      "\n",
      "Suggestion 1 : Extra Dry with a cosine distance of 0.049\n",
      "This wine has the following descriptors: ['fresh', 'clean', 'stone', 'fruit', 'citrus', 'soft']\n",
      "\n",
      "Suggestion 2 : Solutré with a cosine distance of 0.079\n",
      "This wine has the following descriptors: ['white', 'fruit', 'soft', 'rich', 'fresh', 'apple', 'stone']\n",
      "\n",
      "Suggestion 3 : Extra Dry with a cosine distance of 0.080\n",
      "This wine has the following descriptors: ['fresh', 'dry', 'flower', 'stone', 'fruit', 'citrus', 'soft']\n",
      "\n",
      "Suggestion 4 : Ried Loibenberg Smaragd with a cosine distance of 0.084\n",
      "This wine has the following descriptors: ['fresh', 'green', 'apple', 'ripe', 'citrus', 'light_bodied', 'apple', 'stone', 'fruit', 'citrus', 'stone']\n",
      "\n",
      "Suggestion 5 : Heissenberg with a cosine distance of 0.086\n",
      "This wine has the following descriptors: ['round', 'ripe', 'peach', 'fruit', 'bright', 'lemon', 'fresh', 'stone', 'stone', 'peach', 'light_bodied', 'dry']\n",
      "\n",
      "Suggestion 6 : Voulez-Vous with a cosine distance of 0.089\n",
      "This wine has the following descriptors: ['juicy', 'fresh', 'light_bodied', 'crisp', 'citrus', 'stone', 'fruit', 'pineapple', 'stone']\n",
      "\n",
      "Suggestion 7 : Sapìri with a cosine distance of 0.089\n",
      "This wine has the following descriptors: ['fresh', 'citrus', 'peach', 'stone', 'fruit', 'light_bodied']\n",
      "\n",
      "Suggestion 8 : nan with a cosine distance of 0.092\n",
      "This wine has the following descriptors: ['fresh', 'stone', 'apple', 'citrus', 'fresh', 'stone', 'fruit', 'citrus', 'fruit', 'white', 'pepper', 'crisp', 'depth']\n",
      "\n",
      "Suggestion 9 : nan with a cosine distance of 0.092\n",
      "This wine has the following descriptors: ['peach', 'stone', 'fresh', 'plump', 'melon', 'lime', 'clean', 'firm']\n",
      "\n",
      "Suggestion 10 : Enosi with a cosine distance of 0.093\n",
      "This wine has the following descriptors: ['bright', 'complex', 'soft', 'stone', 'fruit', 'citrus', 'melon', 'cream']\n",
      "\n",
      "Suggestion 11 : Extra Dry with a cosine distance of 0.095\n",
      "This wine has the following descriptors: ['dry', 'dry', 'flower', 'citrus', 'stone', 'fruit', 'apple', 'fresh']\n",
      "\n",
      "Suggestion 12 : nan with a cosine distance of 0.095\n",
      "This wine has the following descriptors: ['bright', 'stone', 'fruit', 'melon', 'minerality', 'fresh']\n",
      "\n"
     ]
    }
   ],
   "source": [
    "name_test = wine_desc[\"wine_name\"]\n",
    "\n",
    "wine_test_vector = wine_description_mincount.loc[wine_description_mincount['wine_name'] == name_test]['description_vector'].tolist()[0]\n",
    "distance, indice = model_knn.kneighbors(wine_test_vector, n_neighbors=13)\n",
    "distance_list = distance[0].tolist()[1:]\n",
    "indice_list = indice[0].tolist()[1:]\n",
    "\n",
    "main_wine = wine_description_mincount.loc[wine_description_mincount['wine_name'] == name_test]\n",
    "\n",
    "print('Wine to match:', name_test)\n",
    "print('The original wine has the following descriptors:', list(main_wine['normalized_descriptors'])[0], '\\n')\n",
    "\n",
    "\n",
    "descriptors = []\n",
    "n = 1\n",
    "for d, i in zip(distance_list, indice_list):\n",
    "    wine_name = wine_description_mincount['wine_name'][i]\n",
    "    wine_descriptors = wine_description_mincount['normalized_descriptors'][i]\n",
    "    descriptors.append(wine_descriptors)\n",
    "    print('Suggestion', str(n), ':', wine_name, 'with a cosine distance of', \"{:.3f}\".format(d))\n",
    "    print('This wine has the following descriptors:', wine_descriptors)\n",
    "    print('')\n",
    "    n+=1"
   ]
  },
  {
   "cell_type": "markdown",
   "id": "16a786e6",
   "metadata": {},
   "source": [
    "### Make one big descriptor list"
   ]
  },
  {
   "cell_type": "code",
   "execution_count": 127,
   "id": "ee1f6cea",
   "metadata": {},
   "outputs": [
    {
     "name": "stdout",
     "output_type": "stream",
     "text": [
      "['clean', 'complex', 'depth', 'ripe', 'plump', 'stone', 'citrus', 'green', 'white', 'rich', 'crisp', 'lime', 'melon', 'apple', 'bright', 'flower', 'minerality', 'firm', 'pineapple', 'fresh', 'lemon', 'cream', 'round', 'soft', 'peach', 'dry', 'juicy', 'fruit', 'pepper', 'light_bodied']\n",
      "30\n"
     ]
    }
   ],
   "source": [
    "descriptor_list_all = list(itertools.chain.from_iterable(descriptors))\n",
    "descriptor_list = list(set(descriptor_list_all))\n",
    "print(descriptor_list)\n",
    "print(len(descriptor_list))"
   ]
  },
  {
   "cell_type": "markdown",
   "id": "87de9793",
   "metadata": {},
   "source": [
    "### Get Word2Vec embeddings of descriptors"
   ]
  },
  {
   "cell_type": "code",
   "execution_count": 128,
   "id": "f412c6a0",
   "metadata": {},
   "outputs": [],
   "source": [
    "descriptor_vectors = []\n",
    "for term in set(descriptor_list):\n",
    "    word_vector = wine_word2vec_model.wv.get_vector(term).reshape(1, 300)\n",
    "    descriptor_vectors.append(word_vector)\n",
    "    \n",
    "input_vectors_listed = [a.tolist() for a in descriptor_vectors]\n",
    "input_vectors_listed = [a[0] for a in input_vectors_listed]"
   ]
  },
  {
   "cell_type": "code",
   "execution_count": 157,
   "id": "a8f3e410",
   "metadata": {},
   "outputs": [],
   "source": [
    "from sklearn.cluster import KMeans\n",
    "from sklearn.metrics import pairwise_distances_argmin_min\n",
    "\n",
    "kmeans = KMeans(n_clusters=8, random_state=0).fit(input_vectors_listed)\n",
    "labels = kmeans.predict(input_vectors_listed)\n",
    "centroids = kmeans.cluster_centers_"
   ]
  },
  {
   "cell_type": "code",
   "execution_count": 158,
   "id": "f3c0e415",
   "metadata": {},
   "outputs": [],
   "source": [
    "closest, _ = pairwise_distances_argmin_min(kmeans.cluster_centers_, input_vectors_listed)\n",
    "sampled_descriptors = np.array(descriptor_list)[closest]"
   ]
  },
  {
   "cell_type": "code",
   "execution_count": 159,
   "id": "5a03ba5e",
   "metadata": {},
   "outputs": [
    {
     "data": {
      "text/plain": [
       "array(['depth', 'green', 'round', 'plump', 'fresh', 'bright',\n",
       "       'light_bodied', 'rich'], dtype='<U12')"
      ]
     },
     "execution_count": 159,
     "metadata": {},
     "output_type": "execute_result"
    }
   ],
   "source": [
    "sampled_descriptors"
   ]
  },
  {
   "cell_type": "code",
   "execution_count": null,
   "id": "9ecb1003",
   "metadata": {},
   "outputs": [],
   "source": []
  }
 ],
 "metadata": {
  "kernelspec": {
   "display_name": "Python 3",
   "language": "python",
   "name": "python3"
  },
  "language_info": {
   "codemirror_mode": {
    "name": "ipython",
    "version": 3
   },
   "file_extension": ".py",
   "mimetype": "text/x-python",
   "name": "python",
   "nbconvert_exporter": "python",
   "pygments_lexer": "ipython3",
   "version": "3.9.4"
  }
 },
 "nbformat": 4,
 "nbformat_minor": 5
}
